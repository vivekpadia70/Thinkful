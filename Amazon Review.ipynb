{
 "cells": [
  {
   "cell_type": "markdown",
   "metadata": {},
   "source": [
    "## Amazon Review\n",
    "\n",
    "Sentiment analysis is a machine learning model used for understanding natural languages. It is used for identifying the feeling behind a particular text, i.e. whether the text means happy, sad, angry and so on.\n",
    "\n",
    "This could be used in multiple scenarios like a big brand don't need to go through every review to know how it's users are reacting. Whether they can run sentiment analysis to extract the feeling information for their brand.\n",
    "\n",
    "Here, we will be building such model from amazon's review dataset and we'll use Random Forest for this task."
   ]
  },
  {
   "cell_type": "code",
   "execution_count": null,
   "metadata": {
    "collapsed": true
   },
   "outputs": [],
   "source": [
    "import numpy as np\n",
    "import pandas as pd\n",
    "import matplotlib.pyplot as plt\n",
    "import seaborn as sns\n",
    "from sklearn.ensemble import RandomForestClassifier"
   ]
  }
 ],
 "metadata": {
  "kernelspec": {
   "display_name": "Python 3",
   "language": "python",
   "name": "python3"
  },
  "language_info": {
   "codemirror_mode": {
    "name": "ipython",
    "version": 3
   },
   "file_extension": ".py",
   "mimetype": "text/x-python",
   "name": "python",
   "nbconvert_exporter": "python",
   "pygments_lexer": "ipython3",
   "version": "3.6.8"
  }
 },
 "nbformat": 4,
 "nbformat_minor": 2
}
